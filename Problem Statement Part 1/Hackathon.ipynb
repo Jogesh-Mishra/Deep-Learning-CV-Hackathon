{
  "nbformat": 4,
  "nbformat_minor": 0,
  "metadata": {
    "colab": {
      "name": "Hackathon.ipynb",
      "provenance": [],
      "collapsed_sections": []
    },
    "kernelspec": {
      "name": "python3",
      "display_name": "Python 3"
    },
    "accelerator": "GPU"
  },
  "cells": [
    {
      "cell_type": "code",
      "metadata": {
        "id": "elNEGYWn67IV"
      },
      "source": [
        "!unzip -q \"drive/MyDrive/trainset.zip\""
      ],
      "execution_count": 1,
      "outputs": []
    },
    {
      "cell_type": "code",
      "metadata": {
        "id": "PbD18VALk5Vb"
      },
      "source": [
        "import os\r\n",
        "import numpy as np\r\n",
        "import cv2\r\n",
        "import tensorflow as tf\r\n",
        "import matplotlib.pyplot as plt\r\n",
        "from matplotlib import gridspec\r\n",
        "from sklearn.preprocessing import LabelEncoder\r\n",
        "from scipy.spatial.distance import cdist\r\n",
        "from sklearn.model_selection import train_test_split\r\n",
        "from tensorflow.keras.models import Sequential\r\n",
        "from tensorflow.keras import layers\r\n",
        "import keras"
      ],
      "execution_count": 2,
      "outputs": []
    },
    {
      "cell_type": "code",
      "metadata": {
        "id": "vRQOTF5p9-IF"
      },
      "source": [
        "def crop_image(image):\r\n",
        "    face_cascade = cv2.CascadeClassifier('haarcascade_frontalface_default.xml')\r\n",
        "    faces = face_cascade.detectMultiScale(image, 1.3, 5)\r\n",
        "    biggest = 0\r\n",
        "    if len(faces) != 0:\r\n",
        "        for face in faces :  \r\n",
        "            area = face[2]*face[3]\r\n",
        "            if area > biggest :\r\n",
        "                biggest = area\r\n",
        "                x = face[0]\r\n",
        "                y = face[1]\r\n",
        "                w = face[2]\r\n",
        "                h = face[3]\r\n",
        "        x = 0 if x < 0 else x\r\n",
        "        y = 0 if y < 0 else y\r\n",
        "        r = max(w, h) / 2\r\n",
        "        centerx = x + w / 2\r\n",
        "        centery = y + h / 2\r\n",
        "        nx = int(centerx - r)\r\n",
        "        ny = int(centery - r)\r\n",
        "        nr = int(r * 2)\r\n",
        "        faceimg = image[ny:ny+nr, nx:nx+nr]\r\n",
        "        faceimg = cv2.resize(faceimg,(255,255))\r\n",
        "        \r\n",
        "        return faceimg\r\n",
        "    else:\r\n",
        "        return image"
      ],
      "execution_count": 3,
      "outputs": []
    },
    {
      "cell_type": "code",
      "metadata": {
        "id": "5_UFlaJJl54i"
      },
      "source": [
        "def get_dataset():\r\n",
        "    src = './trainset'\r\n",
        "    X =[]\r\n",
        "    y =[]\r\n",
        "    X_passport =[]\r\n",
        "    y_passport=[]\r\n",
        "    for directory in os.listdir(src):\r\n",
        "        try:\r\n",
        "            directory_1 = os.path.join(src,directory)\r\n",
        "            for d in os.listdir(directory_1):\r\n",
        "                sub_direct = os.path.join(directory_1,d)\r\n",
        "                for image in os.listdir(sub_direct):\r\n",
        "                    path = os.path.join(sub_direct,image)\r\n",
        "                    img = cv2.imread(path)\r\n",
        "                    img = cv2.cvtColor(img, cv2.COLOR_BGR2GRAY)\r\n",
        "                    img = cv2.resize(img,(255,255))\r\n",
        "                    #if 'script' in image:\r\n",
        "                      #X_passport.append(img)\r\n",
        "                      #y_passport.append(sub_direct[16:].replace('_',''))\r\n",
        "                    #else:\r\n",
        "                      #X.append(img)\r\n",
        "                      #y.append(sub_direct[16:].replace('_',''))\r\n",
        "                    X.append(img)\r\n",
        "                    y.append(int(sub_direct[16:20]))\r\n",
        "        except:\r\n",
        "            pass\r\n",
        "    return X,y\r\n",
        "            "
      ],
      "execution_count": 4,
      "outputs": []
    },
    {
      "cell_type": "code",
      "metadata": {
        "id": "gAoP3ODA6jNg"
      },
      "source": [
        "def get_output_parameters(y):\r\n",
        "  i = 0\r\n",
        "  y_dict ={}\r\n",
        "  for val in y:\r\n",
        "    if val not in y_dict.values() :\r\n",
        "      y_dict[i] = val\r\n",
        "      i += 1\r\n",
        "  for i,val in enumerate(y) :\r\n",
        "    for key, value in y_dict.items():\r\n",
        "      if int(val) == int(value):\r\n",
        "        y[i] = key\r\n",
        "  return y, y_dict"
      ],
      "execution_count": 5,
      "outputs": []
    },
    {
      "cell_type": "code",
      "metadata": {
        "id": "MUN7bQBL6j3R"
      },
      "source": [
        "def get_input_faces(x):\r\n",
        "  X=[]\r\n",
        "  for img in x:\r\n",
        "    cropped_image = crop_image(img)\r\n",
        "    X.append(cropped_image)\r\n",
        "  return X\r\n"
      ],
      "execution_count": 6,
      "outputs": []
    },
    {
      "cell_type": "code",
      "metadata": {
        "id": "77n-T1b57IG3"
      },
      "source": [
        "def image_parameters_to_array(X):\r\n",
        "  X = np.squeeze(np.array(X, dtype= np.float32))\r\n",
        "  X = np.resize(X,(X.shape[0],32,32,3))\r\n",
        "  return X"
      ],
      "execution_count": 7,
      "outputs": []
    },
    {
      "cell_type": "code",
      "metadata": {
        "id": "8-jkGmXL7dzj"
      },
      "source": [
        "def output_parameters_to_array(y):\r\n",
        "  Y = np.squeeze(np.array(y, dtype= np.int32))\r\n",
        "  Y = np.resize(Y,(Y.shape[0],1))\r\n",
        "  return Y"
      ],
      "execution_count": 8,
      "outputs": []
    },
    {
      "cell_type": "code",
      "metadata": {
        "id": "QyWSYsCe8tC5"
      },
      "source": [
        "def feature_model():\r\n",
        "  model = Sequential()\r\n",
        "  model.add(layers.Conv2D(32, (3, 3), activation='relu', input_shape= X.shape[1:], padding='SAME'))\r\n",
        "  model.add(layers.MaxPooling2D((2,2),padding='SAME'))\r\n",
        "  model.add(layers.Conv2D(64, (3, 3), activation='relu',padding='SAME'))\r\n",
        "  model.add(layers.MaxPooling2D((2,2),padding='SAME'))\r\n",
        "  model.add(layers.Conv2D(128, (3, 3), activation='relu',padding='SAME'))\r\n",
        "  model.add(layers.MaxPooling2D((2,2),padding='SAME'))\r\n",
        "  model.add(layers.Conv2D(128, (3, 3), activation='relu',padding='SAME'))\r\n",
        "  model.add(layers.MaxPooling2D((2,2),padding='SAME'))\r\n",
        "  model.add(layers.Conv2D(128, (3, 3), activation='relu',padding='SAME'))\r\n",
        "  model.add(layers.MaxPooling2D((2,2),padding='SAME'))\r\n",
        "  model.add(layers.Conv2D(256, (1, 1), activation='relu',padding='SAME'))\r\n",
        "  model.add(layers.MaxPooling2D((2,2),padding='SAME'))\r\n",
        "  model.add(layers.Conv2D(256, (1, 1), activation='relu',padding='SAME'))\r\n",
        "  model.add(layers.MaxPooling2D((2,2),padding='SAME'))\r\n",
        "  model.add(layers.Conv2D(256, (1, 1), activation='relu',padding='SAME'))\r\n",
        "  model.add(layers.MaxPooling2D((2,2),padding='SAME'))\r\n",
        "  model.add(layers.Conv2D(256, (1, 1), activation='relu',padding='SAME'))\r\n",
        "  model.add(layers.MaxPooling2D((2,2),padding='SAME'))\r\n",
        "  model.add(layers.Conv2D(256, (1, 1), activation='relu',padding='SAME'))\r\n",
        "  model.add(layers.MaxPooling2D((2,2),padding='SAME'))\r\n",
        "  model.add(layers.Conv2D(128, (3, 3), activation='relu',padding='SAME'))\r\n",
        "  model.add(layers.MaxPooling2D((2,2),padding='SAME'))\r\n",
        "  model.add(layers.Conv2D(512, (1, 1), activation= None,padding='SAME'))\r\n",
        "  model.add(layers.MaxPooling2D((2,2),padding='SAME'))  \r\n",
        "  model.add(layers.Conv2D(512, (1, 1), activation= None,padding='SAME'))\r\n",
        "  model.add(layers.MaxPooling2D((2,2),padding='SAME'))\r\n",
        "  model.add(layers.Conv2D(512, (1, 1), activation= None,padding='SAME'))\r\n",
        "  model.add(layers.MaxPooling2D((2,2),padding='SAME'))\r\n",
        "  model.add(layers.Flatten())\r\n",
        "  model.add(layers.Dense(256, activation= 'relu'))\r\n",
        "  model.add(layers.Dense(512, activation= 'relu'))\r\n",
        "  model.add(layers.Dense(1012, activation= 'softmax'))\r\n",
        "  opt = keras.optimizers.Adam(lr = 0.00001)\r\n",
        "  model.compile(optimizer= opt,loss='sparse_categorical_crossentropy',metrics =['accuracy'])\r\n",
        "  return model"
      ],
      "execution_count": 9,
      "outputs": []
    },
    {
      "cell_type": "code",
      "metadata": {
        "id": "czGnskoc_SU_"
      },
      "source": [
        "def save_model_and_weights(model):\r\n",
        "  !mkdir -p saved_model\r\n",
        "  model.save('saved_model/my_model') \r\n",
        "  model.save_weights(\"model.h5\")\r\n",
        "   \r\n",
        "  model_json = model.to_json()  # Converting the model into JSON format and storing it in \"picture_model.json\" file.\r\n",
        "  with open(\"picture_model.json\", \"w\") as json_file:\r\n",
        "    json_file.write(model_json)"
      ],
      "execution_count": 10,
      "outputs": []
    },
    {
      "cell_type": "code",
      "metadata": {
        "id": "i5P-ahQPl_xL"
      },
      "source": [
        "x, y = get_dataset() # Getting the Data from Trainset"
      ],
      "execution_count": 11,
      "outputs": []
    },
    {
      "cell_type": "code",
      "metadata": {
        "id": "ZoK9ET8U-Wrr"
      },
      "source": [
        "y, y_dict = get_output_parameters(y) # Getting output Values and it's respective dictionary"
      ],
      "execution_count": 12,
      "outputs": []
    },
    {
      "cell_type": "code",
      "metadata": {
        "id": "EwDiI7jP-gYy"
      },
      "source": [
        "X = get_input_faces(x) #Cropping Faces out of Images using Haarcascade_frontalface_default.xml"
      ],
      "execution_count": 14,
      "outputs": []
    },
    {
      "cell_type": "code",
      "metadata": {
        "id": "D798NgHu-pHm"
      },
      "source": [
        "X = image_parameters_to_array(X) # Image to numpy array\r\n",
        "Y = output_parameters_to_array(y) # Output parameter to numpy array"
      ],
      "execution_count": 16,
      "outputs": []
    },
    {
      "cell_type": "code",
      "metadata": {
        "id": "cunBwCkz_JX8"
      },
      "source": [
        "encoder = LabelEncoder() # Transforming output variable to categories\r\n",
        "Y = encoder.fit_transform(y)"
      ],
      "execution_count": 17,
      "outputs": []
    },
    {
      "cell_type": "code",
      "metadata": {
        "id": "hPaM7MnX--_z"
      },
      "source": [
        "X_train,X_test,Y_train,Y_test = train_test_split(X,Y,test_size=0.3,random_state=42) #Splitting te available Data into training and test set"
      ],
      "execution_count": 18,
      "outputs": []
    },
    {
      "cell_type": "code",
      "metadata": {
        "id": "YTR8Tmcp-0mb"
      },
      "source": [
        "model = feature_model() # Getting the CNN model"
      ],
      "execution_count": 19,
      "outputs": []
    },
    {
      "cell_type": "code",
      "metadata": {
        "colab": {
          "base_uri": "https://localhost:8080/"
        },
        "id": "VUr_qVbU9dr1",
        "outputId": "e036253e-7607-4227-e228-90b7257901d5"
      },
      "source": [
        "model.fit(X_train,Y_train, epochs=100, batch_size= 32) # Training on given training set"
      ],
      "execution_count": 20,
      "outputs": [
        {
          "output_type": "stream",
          "text": [
            "Epoch 1/100\n",
            "97/97 [==============================] - 8s 10ms/step - loss: 5.8599 - accuracy: 0.3789\n",
            "Epoch 2/100\n",
            "97/97 [==============================] - 1s 8ms/step - loss: 2.1098 - accuracy: 0.5391\n",
            "Epoch 3/100\n",
            "97/97 [==============================] - 1s 9ms/step - loss: 1.6869 - accuracy: 0.5134\n",
            "Epoch 4/100\n",
            "97/97 [==============================] - 1s 9ms/step - loss: 1.5011 - accuracy: 0.5112\n",
            "Epoch 5/100\n",
            "97/97 [==============================] - 1s 8ms/step - loss: 1.4545 - accuracy: 0.5176\n",
            "Epoch 6/100\n",
            "97/97 [==============================] - 1s 8ms/step - loss: 1.4205 - accuracy: 0.5222\n",
            "Epoch 7/100\n",
            "97/97 [==============================] - 1s 9ms/step - loss: 1.4374 - accuracy: 0.5067\n",
            "Epoch 8/100\n",
            "97/97 [==============================] - 1s 8ms/step - loss: 1.4410 - accuracy: 0.5164\n",
            "Epoch 9/100\n",
            "97/97 [==============================] - 1s 7ms/step - loss: 1.4163 - accuracy: 0.5305\n",
            "Epoch 10/100\n",
            "97/97 [==============================] - 1s 8ms/step - loss: 1.4013 - accuracy: 0.5313\n",
            "Epoch 11/100\n",
            "97/97 [==============================] - 1s 8ms/step - loss: 1.4284 - accuracy: 0.5229\n",
            "Epoch 12/100\n",
            "97/97 [==============================] - 1s 8ms/step - loss: 1.4378 - accuracy: 0.5238\n",
            "Epoch 13/100\n",
            "97/97 [==============================] - 1s 8ms/step - loss: 1.4300 - accuracy: 0.5115\n",
            "Epoch 14/100\n",
            "97/97 [==============================] - 1s 8ms/step - loss: 1.4136 - accuracy: 0.5183\n",
            "Epoch 15/100\n",
            "97/97 [==============================] - 1s 8ms/step - loss: 1.4151 - accuracy: 0.5132\n",
            "Epoch 16/100\n",
            "97/97 [==============================] - 1s 7ms/step - loss: 1.4061 - accuracy: 0.5180\n",
            "Epoch 17/100\n",
            "97/97 [==============================] - 1s 7ms/step - loss: 1.4203 - accuracy: 0.5343\n",
            "Epoch 18/100\n",
            "97/97 [==============================] - 1s 7ms/step - loss: 1.3728 - accuracy: 0.5377\n",
            "Epoch 19/100\n",
            "97/97 [==============================] - 1s 8ms/step - loss: 1.3893 - accuracy: 0.5385\n",
            "Epoch 20/100\n",
            "97/97 [==============================] - 1s 9ms/step - loss: 1.3904 - accuracy: 0.5267\n",
            "Epoch 21/100\n",
            "97/97 [==============================] - 1s 7ms/step - loss: 1.3658 - accuracy: 0.5381\n",
            "Epoch 22/100\n",
            "97/97 [==============================] - 1s 9ms/step - loss: 1.3751 - accuracy: 0.5206\n",
            "Epoch 23/100\n",
            "97/97 [==============================] - 1s 7ms/step - loss: 1.3484 - accuracy: 0.5333\n",
            "Epoch 24/100\n",
            "97/97 [==============================] - 1s 8ms/step - loss: 1.3249 - accuracy: 0.5376\n",
            "Epoch 25/100\n",
            "97/97 [==============================] - 1s 8ms/step - loss: 1.3688 - accuracy: 0.5266\n",
            "Epoch 26/100\n",
            "97/97 [==============================] - 1s 8ms/step - loss: 1.3677 - accuracy: 0.5335\n",
            "Epoch 27/100\n",
            "97/97 [==============================] - 1s 8ms/step - loss: 1.3791 - accuracy: 0.5322\n",
            "Epoch 28/100\n",
            "97/97 [==============================] - 1s 9ms/step - loss: 1.3353 - accuracy: 0.5421\n",
            "Epoch 29/100\n",
            "97/97 [==============================] - 1s 8ms/step - loss: 1.3442 - accuracy: 0.5333\n",
            "Epoch 30/100\n",
            "97/97 [==============================] - 1s 8ms/step - loss: 1.3272 - accuracy: 0.5316\n",
            "Epoch 31/100\n",
            "97/97 [==============================] - 1s 8ms/step - loss: 1.3644 - accuracy: 0.5321\n",
            "Epoch 32/100\n",
            "97/97 [==============================] - 1s 8ms/step - loss: 1.3255 - accuracy: 0.5435\n",
            "Epoch 33/100\n",
            "97/97 [==============================] - 1s 9ms/step - loss: 1.2720 - accuracy: 0.5785\n",
            "Epoch 34/100\n",
            "97/97 [==============================] - 1s 8ms/step - loss: 1.2780 - accuracy: 0.5715\n",
            "Epoch 35/100\n",
            "97/97 [==============================] - 1s 9ms/step - loss: 1.2622 - accuracy: 0.5802\n",
            "Epoch 36/100\n",
            "97/97 [==============================] - 1s 9ms/step - loss: 1.2714 - accuracy: 0.5594\n",
            "Epoch 37/100\n",
            "97/97 [==============================] - 1s 9ms/step - loss: 1.2871 - accuracy: 0.5491\n",
            "Epoch 38/100\n",
            "97/97 [==============================] - 1s 8ms/step - loss: 1.2440 - accuracy: 0.5891\n",
            "Epoch 39/100\n",
            "97/97 [==============================] - 1s 8ms/step - loss: 1.2381 - accuracy: 0.5772\n",
            "Epoch 40/100\n",
            "97/97 [==============================] - 1s 8ms/step - loss: 1.2535 - accuracy: 0.5664\n",
            "Epoch 41/100\n",
            "97/97 [==============================] - 1s 8ms/step - loss: 1.2553 - accuracy: 0.5703\n",
            "Epoch 42/100\n",
            "97/97 [==============================] - 1s 9ms/step - loss: 1.2047 - accuracy: 0.5905\n",
            "Epoch 43/100\n",
            "97/97 [==============================] - 1s 8ms/step - loss: 1.2179 - accuracy: 0.6023\n",
            "Epoch 44/100\n",
            "97/97 [==============================] - 1s 8ms/step - loss: 1.1771 - accuracy: 0.6029\n",
            "Epoch 45/100\n",
            "97/97 [==============================] - 1s 7ms/step - loss: 1.2339 - accuracy: 0.5795\n",
            "Epoch 46/100\n",
            "97/97 [==============================] - 1s 7ms/step - loss: 1.1923 - accuracy: 0.6150\n",
            "Epoch 47/100\n",
            "97/97 [==============================] - 1s 9ms/step - loss: 1.1450 - accuracy: 0.6182\n",
            "Epoch 48/100\n",
            "97/97 [==============================] - 1s 8ms/step - loss: 1.1555 - accuracy: 0.6012\n",
            "Epoch 49/100\n",
            "97/97 [==============================] - 1s 8ms/step - loss: 1.1392 - accuracy: 0.6238\n",
            "Epoch 50/100\n",
            "97/97 [==============================] - 1s 8ms/step - loss: 1.1292 - accuracy: 0.6262\n",
            "Epoch 51/100\n",
            "97/97 [==============================] - 1s 8ms/step - loss: 1.1308 - accuracy: 0.6156\n",
            "Epoch 52/100\n",
            "97/97 [==============================] - 1s 8ms/step - loss: 1.1016 - accuracy: 0.6425\n",
            "Epoch 53/100\n",
            "97/97 [==============================] - 1s 8ms/step - loss: 1.1094 - accuracy: 0.6325\n",
            "Epoch 54/100\n",
            "97/97 [==============================] - 1s 8ms/step - loss: 1.0847 - accuracy: 0.6342\n",
            "Epoch 55/100\n",
            "97/97 [==============================] - 1s 8ms/step - loss: 1.1183 - accuracy: 0.6392\n",
            "Epoch 56/100\n",
            "97/97 [==============================] - 1s 7ms/step - loss: 1.0665 - accuracy: 0.6533\n",
            "Epoch 57/100\n",
            "97/97 [==============================] - 1s 8ms/step - loss: 1.0052 - accuracy: 0.6758\n",
            "Epoch 58/100\n",
            "97/97 [==============================] - 1s 7ms/step - loss: 1.0343 - accuracy: 0.6710\n",
            "Epoch 59/100\n",
            "97/97 [==============================] - 1s 8ms/step - loss: 0.9755 - accuracy: 0.6860\n",
            "Epoch 60/100\n",
            "97/97 [==============================] - 1s 9ms/step - loss: 1.0130 - accuracy: 0.6742\n",
            "Epoch 61/100\n",
            "97/97 [==============================] - 1s 8ms/step - loss: 1.0145 - accuracy: 0.6838\n",
            "Epoch 62/100\n",
            "97/97 [==============================] - 1s 8ms/step - loss: 0.9971 - accuracy: 0.6802\n",
            "Epoch 63/100\n",
            "97/97 [==============================] - 1s 8ms/step - loss: 0.9704 - accuracy: 0.6992\n",
            "Epoch 64/100\n",
            "97/97 [==============================] - 1s 10ms/step - loss: 0.9420 - accuracy: 0.7050\n",
            "Epoch 65/100\n",
            "97/97 [==============================] - 1s 8ms/step - loss: 0.9570 - accuracy: 0.6910\n",
            "Epoch 66/100\n",
            "97/97 [==============================] - 1s 9ms/step - loss: 0.9314 - accuracy: 0.7088\n",
            "Epoch 67/100\n",
            "97/97 [==============================] - 1s 8ms/step - loss: 0.9419 - accuracy: 0.7056\n",
            "Epoch 68/100\n",
            "97/97 [==============================] - 1s 8ms/step - loss: 0.9022 - accuracy: 0.7134\n",
            "Epoch 69/100\n",
            "97/97 [==============================] - 1s 10ms/step - loss: 0.9008 - accuracy: 0.7268\n",
            "Epoch 70/100\n",
            "97/97 [==============================] - 1s 9ms/step - loss: 0.8804 - accuracy: 0.7323\n",
            "Epoch 71/100\n",
            "97/97 [==============================] - 1s 8ms/step - loss: 0.8868 - accuracy: 0.7191\n",
            "Epoch 72/100\n",
            "97/97 [==============================] - 1s 8ms/step - loss: 0.8788 - accuracy: 0.7243\n",
            "Epoch 73/100\n",
            "97/97 [==============================] - 1s 7ms/step - loss: 0.8249 - accuracy: 0.7511\n",
            "Epoch 74/100\n",
            "97/97 [==============================] - 1s 8ms/step - loss: 0.8786 - accuracy: 0.7215\n",
            "Epoch 75/100\n",
            "97/97 [==============================] - 1s 9ms/step - loss: 0.8532 - accuracy: 0.7507\n",
            "Epoch 76/100\n",
            "97/97 [==============================] - 1s 8ms/step - loss: 0.8543 - accuracy: 0.7435\n",
            "Epoch 77/100\n",
            "97/97 [==============================] - 1s 8ms/step - loss: 0.8467 - accuracy: 0.7419\n",
            "Epoch 78/100\n",
            "97/97 [==============================] - 1s 8ms/step - loss: 0.7891 - accuracy: 0.7656\n",
            "Epoch 79/100\n",
            "97/97 [==============================] - 1s 9ms/step - loss: 0.8077 - accuracy: 0.7465\n",
            "Epoch 80/100\n",
            "97/97 [==============================] - 1s 8ms/step - loss: 0.7411 - accuracy: 0.7749\n",
            "Epoch 81/100\n",
            "97/97 [==============================] - 1s 8ms/step - loss: 0.8075 - accuracy: 0.7550\n",
            "Epoch 82/100\n",
            "97/97 [==============================] - 1s 7ms/step - loss: 0.8483 - accuracy: 0.7489\n",
            "Epoch 83/100\n",
            "97/97 [==============================] - 1s 8ms/step - loss: 0.7337 - accuracy: 0.7892\n",
            "Epoch 84/100\n",
            "97/97 [==============================] - 1s 8ms/step - loss: 0.7625 - accuracy: 0.7696\n",
            "Epoch 85/100\n",
            "97/97 [==============================] - 1s 8ms/step - loss: 0.7375 - accuracy: 0.7772\n",
            "Epoch 86/100\n",
            "97/97 [==============================] - 1s 8ms/step - loss: 0.6974 - accuracy: 0.7977\n",
            "Epoch 87/100\n",
            "97/97 [==============================] - 1s 8ms/step - loss: 0.7042 - accuracy: 0.7934\n",
            "Epoch 88/100\n",
            "97/97 [==============================] - 1s 8ms/step - loss: 0.6900 - accuracy: 0.7984\n",
            "Epoch 89/100\n",
            "97/97 [==============================] - 1s 8ms/step - loss: 0.7240 - accuracy: 0.7897\n",
            "Epoch 90/100\n",
            "97/97 [==============================] - 1s 8ms/step - loss: 0.6960 - accuracy: 0.7897\n",
            "Epoch 91/100\n",
            "97/97 [==============================] - 1s 9ms/step - loss: 0.6736 - accuracy: 0.7948\n",
            "Epoch 92/100\n",
            "97/97 [==============================] - 1s 9ms/step - loss: 0.7050 - accuracy: 0.7846\n",
            "Epoch 93/100\n",
            "97/97 [==============================] - 1s 8ms/step - loss: 0.6646 - accuracy: 0.7983\n",
            "Epoch 94/100\n",
            "97/97 [==============================] - 1s 8ms/step - loss: 0.6634 - accuracy: 0.8031\n",
            "Epoch 95/100\n",
            "97/97 [==============================] - 1s 8ms/step - loss: 0.6701 - accuracy: 0.7947\n",
            "Epoch 96/100\n",
            "97/97 [==============================] - 1s 8ms/step - loss: 0.6758 - accuracy: 0.7921\n",
            "Epoch 97/100\n",
            "97/97 [==============================] - 1s 8ms/step - loss: 0.6637 - accuracy: 0.7977\n",
            "Epoch 98/100\n",
            "97/97 [==============================] - 1s 7ms/step - loss: 0.6723 - accuracy: 0.8006\n",
            "Epoch 99/100\n",
            "97/97 [==============================] - 1s 8ms/step - loss: 0.6035 - accuracy: 0.8111\n",
            "Epoch 100/100\n",
            "97/97 [==============================] - 1s 8ms/step - loss: 0.6282 - accuracy: 0.8056\n"
          ],
          "name": "stdout"
        },
        {
          "output_type": "execute_result",
          "data": {
            "text/plain": [
              "<tensorflow.python.keras.callbacks.History at 0x7f35f805e160>"
            ]
          },
          "metadata": {
            "tags": []
          },
          "execution_count": 20
        }
      ]
    },
    {
      "cell_type": "code",
      "metadata": {
        "colab": {
          "base_uri": "https://localhost:8080/"
        },
        "id": "v2XysEfj_O0u",
        "outputId": "87821b23-2440-4acb-ba22-cdfe73a91334"
      },
      "source": [
        "model.evaluate(X_test,Y_test) # Evaluating on Test set"
      ],
      "execution_count": 21,
      "outputs": [
        {
          "output_type": "stream",
          "text": [
            "42/42 [==============================] - 0s 5ms/step - loss: 2.4702 - accuracy: 0.4517\n"
          ],
          "name": "stdout"
        },
        {
          "output_type": "execute_result",
          "data": {
            "text/plain": [
              "[2.470165729522705, 0.4517345428466797]"
            ]
          },
          "metadata": {
            "tags": []
          },
          "execution_count": 21
        }
      ]
    },
    {
      "cell_type": "code",
      "metadata": {
        "colab": {
          "base_uri": "https://localhost:8080/"
        },
        "id": "5k0Gkvze_Wni",
        "outputId": "f9d9fcd0-0738-4fcc-ce1d-2505f8a51415"
      },
      "source": [
        "save_model_and_weights(model) # Saving the model and it's Weights "
      ],
      "execution_count": 22,
      "outputs": [
        {
          "output_type": "stream",
          "text": [
            "INFO:tensorflow:Assets written to: saved_model/my_model/assets\n"
          ],
          "name": "stdout"
        }
      ]
    },
    {
      "cell_type": "code",
      "metadata": {
        "colab": {
          "base_uri": "https://localhost:8080/",
          "height": 16
        },
        "id": "n8NGKXCQB1Zw",
        "outputId": "c12bc1ff-08d6-463b-f502-36fff5a80f1f"
      },
      "source": [
        "from google.colab import files\r\n",
        "files.download('saved_model')"
      ],
      "execution_count": 23,
      "outputs": [
        {
          "output_type": "display_data",
          "data": {
            "application/javascript": [
              "\n",
              "    async function download(id, filename, size) {\n",
              "      if (!google.colab.kernel.accessAllowed) {\n",
              "        return;\n",
              "      }\n",
              "      const div = document.createElement('div');\n",
              "      const label = document.createElement('label');\n",
              "      label.textContent = `Downloading \"${filename}\": `;\n",
              "      div.appendChild(label);\n",
              "      const progress = document.createElement('progress');\n",
              "      progress.max = size;\n",
              "      div.appendChild(progress);\n",
              "      document.body.appendChild(div);\n",
              "\n",
              "      const buffers = [];\n",
              "      let downloaded = 0;\n",
              "\n",
              "      const channel = await google.colab.kernel.comms.open(id);\n",
              "      // Send a message to notify the kernel that we're ready.\n",
              "      channel.send({})\n",
              "\n",
              "      for await (const message of channel.messages) {\n",
              "        // Send a message to notify the kernel that we're ready.\n",
              "        channel.send({})\n",
              "        if (message.buffers) {\n",
              "          for (const buffer of message.buffers) {\n",
              "            buffers.push(buffer);\n",
              "            downloaded += buffer.byteLength;\n",
              "            progress.value = downloaded;\n",
              "          }\n",
              "        }\n",
              "      }\n",
              "      const blob = new Blob(buffers, {type: 'application/binary'});\n",
              "      const a = document.createElement('a');\n",
              "      a.href = window.URL.createObjectURL(blob);\n",
              "      a.download = filename;\n",
              "      div.appendChild(a);\n",
              "      a.click();\n",
              "      div.remove();\n",
              "    }\n",
              "  "
            ],
            "text/plain": [
              "<IPython.core.display.Javascript object>"
            ]
          },
          "metadata": {
            "tags": []
          }
        },
        {
          "output_type": "display_data",
          "data": {
            "application/javascript": [
              "download(\"download_53513f25-728a-497a-aa70-20cd0e3361c4\", \"saved_model\", 4096)"
            ],
            "text/plain": [
              "<IPython.core.display.Javascript object>"
            ]
          },
          "metadata": {
            "tags": []
          }
        }
      ]
    }
  ]
}